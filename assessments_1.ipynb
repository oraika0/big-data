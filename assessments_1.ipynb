{
  "nbformat": 4,
  "nbformat_minor": 0,
  "metadata": {
    "colab": {
      "name": "assessments-1",
      "provenance": [],
      "collapsed_sections": [],
      "include_colab_link": true
    },
    "kernelspec": {
      "name": "ir",
      "display_name": "R"
    }
  },
  "cells": [
    {
      "cell_type": "markdown",
      "metadata": {
        "id": "view-in-github",
        "colab_type": "text"
      },
      "source": [
        "<a href=\"https://colab.research.google.com/github/oraika0/big-data/blob/master/assessments_1.ipynb\" target=\"_parent\"><img src=\"https://colab.research.google.com/assets/colab-badge.svg\" alt=\"Open In Colab\"/></a>"
      ]
    },
    {
      "cell_type": "code",
      "metadata": {
        "id": "YWLtXg2uW-pg",
        "colab_type": "code",
        "colab": {
          "base_uri": "https://localhost:8080/",
          "height": 35
        },
        "outputId": "dc75f5a0-0511-4e43-e2bf-a00a46c4cd7b"
      },
      "source": [
        "class(4)"
      ],
      "execution_count": null,
      "outputs": [
        {
          "output_type": "display_data",
          "data": {
            "text/plain": [
              "[1] \"numeric\""
            ],
            "text/latex": "'numeric'",
            "text/markdown": "'numeric'",
            "text/html": [
              "'numeric'"
            ]
          },
          "metadata": {
            "tags": []
          }
        }
      ]
    },
    {
      "cell_type": "code",
      "metadata": {
        "id": "XlYfNhsTXI_V",
        "colab_type": "code",
        "colab": {
          "base_uri": "https://localhost:8080/",
          "height": 35
        },
        "outputId": "672b6c69-5483-4deb-b97c-558682cc04e6"
      },
      "source": [
        "class(\"hi\")"
      ],
      "execution_count": null,
      "outputs": [
        {
          "output_type": "display_data",
          "data": {
            "text/plain": [
              "[1] \"character\""
            ],
            "text/latex": "'character'",
            "text/markdown": "'character'",
            "text/html": [
              "'character'"
            ]
          },
          "metadata": {
            "tags": []
          }
        }
      ]
    },
    {
      "cell_type": "code",
      "metadata": {
        "id": "ukTFB0vfXc0v",
        "colab_type": "code",
        "colab": {
          "base_uri": "https://localhost:8080/",
          "height": 35
        },
        "outputId": "da8e69e5-be53-4f0b-c97c-05cf1ea82571"
      },
      "source": [
        "9>12"
      ],
      "execution_count": 13,
      "outputs": [
        {
          "output_type": "display_data",
          "data": {
            "text/plain": [
              "[1] FALSE"
            ],
            "text/latex": "FALSE",
            "text/markdown": "FALSE",
            "text/html": [
              "FALSE"
            ]
          },
          "metadata": {
            "tags": []
          }
        }
      ]
    },
    {
      "cell_type": "code",
      "metadata": {
        "id": "LoWxB3KRYnl6",
        "colab_type": "code",
        "colab": {}
      },
      "source": [
        "MY_H<- 1.8\n",
        "MY_W<- 67"
      ],
      "execution_count": 14,
      "outputs": []
    },
    {
      "cell_type": "code",
      "metadata": {
        "id": "CMKeL9UBY4fx",
        "colab_type": "code",
        "colab": {}
      },
      "source": [
        "BMI=MY_W/(MY_H*MY_H)"
      ],
      "execution_count": 15,
      "outputs": []
    },
    {
      "cell_type": "code",
      "metadata": {
        "id": "U4SCdYtkabC0",
        "colab_type": "code",
        "colab": {
          "base_uri": "https://localhost:8080/",
          "height": 35
        },
        "outputId": "0409c59b-4856-4eb2-e581-432c647329a5"
      },
      "source": [
        "BMI"
      ],
      "execution_count": 16,
      "outputs": [
        {
          "output_type": "display_data",
          "data": {
            "text/plain": [
              "[1] 20.67901"
            ],
            "text/latex": "20.679012345679",
            "text/markdown": "20.679012345679",
            "text/html": [
              "20.679012345679"
            ]
          },
          "metadata": {
            "tags": []
          }
        }
      ]
    },
    {
      "cell_type": "code",
      "metadata": {
        "id": "VHYrUp7rag8w",
        "colab_type": "code",
        "colab": {
          "base_uri": "https://localhost:8080/",
          "height": 35
        },
        "outputId": "07865f1c-dab5-4f47-8049-0aa43d046051"
      },
      "source": [
        "paste0(\"我的身高(公尺)\",MY_H,\"我的體重(公斤)\",MY_W,\"我的BMI\",BMI)\n",
        "\n"
      ],
      "execution_count": 17,
      "outputs": [
        {
          "output_type": "display_data",
          "data": {
            "text/plain": [
              "[1] \"我的身高(公尺)1.8我的體重(公斤)67我的BMI20.679012345679\""
            ],
            "text/latex": "'我的身高(公尺)1.8我的體重(公斤)67我的BMI20.679012345679'",
            "text/markdown": "'我的身高(公尺)1.8我的體重(公斤)67我的BMI20.679012345679'",
            "text/html": [
              "'我的身高(公尺)1.8我的體重(公斤)67我的BMI20.679012345679'"
            ]
          },
          "metadata": {
            "tags": []
          }
        }
      ]
    }
  ]
}